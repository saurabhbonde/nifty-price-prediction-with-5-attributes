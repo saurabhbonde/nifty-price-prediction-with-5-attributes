{
  "nbformat": 4,
  "nbformat_minor": 0,
  "metadata": {
    "colab": {
      "name": "nifty with 5 attributes.ipynb",
      "provenance": [],
      "collapsed_sections": [],
      "toc_visible": true
    },
    "kernelspec": {
      "display_name": "Python 3",
      "name": "python3"
    }
  },
  "cells": [
    {
      "cell_type": "markdown",
      "metadata": {
        "id": "xpAuMVCwfWs8"
      },
      "source": [
        "# Recurrent Neural Network"
      ]
    },
    {
      "cell_type": "markdown",
      "metadata": {
        "id": "nxJfRe4bfYVA"
      },
      "source": [
        "## Part 1 - Data Preprocessing"
      ]
    },
    {
      "cell_type": "markdown",
      "metadata": {
        "id": "ir9zwETrfbrp"
      },
      "source": [
        "### Importing the libraries"
      ]
    },
    {
      "cell_type": "code",
      "metadata": {
        "id": "ZT1f24vHffuf"
      },
      "source": [
        "import numpy as np\n",
        "import matplotlib.pyplot as plt\n",
        "import pandas as pd"
      ],
      "execution_count": 92,
      "outputs": []
    },
    {
      "cell_type": "markdown",
      "metadata": {
        "id": "nQ47JAxrgmaL"
      },
      "source": [
        "### Importing the training set"
      ]
    },
    {
      "cell_type": "code",
      "metadata": {
        "id": "1xiv3pJOgqY3",
        "colab": {
          "base_uri": "https://localhost:8080/"
        },
        "outputId": "e9d43c3c-e780-4e45-b685-948076c8be84"
      },
      "source": [
        "dataset_train = pd.read_csv(\"total_data.csv\")\n",
        "training_set = dataset_train.iloc[:,1:6].values\n",
        "print(training_set.shape)"
      ],
      "execution_count": 96,
      "outputs": [
        {
          "output_type": "stream",
          "text": [
            "(2710, 5)\n"
          ],
          "name": "stdout"
        }
      ]
    },
    {
      "cell_type": "markdown",
      "metadata": {
        "id": "HT8_2UJegtG5"
      },
      "source": [
        "### Feature Scaling"
      ]
    },
    {
      "cell_type": "code",
      "metadata": {
        "colab": {
          "base_uri": "https://localhost:8080/"
        },
        "id": "OTrF2kR7gx9x",
        "outputId": "81b553ec-9648-4bee-c822-2c2fbe5c6f1d"
      },
      "source": [
        "from sklearn.preprocessing import MinMaxScaler\n",
        "sc = MinMaxScaler(feature_range = (0,1))\n",
        "training_set_scaled = sc.fit_transform(training_set)\n",
        "print(training_set_scaled.shape)"
      ],
      "execution_count": 97,
      "outputs": [
        {
          "output_type": "stream",
          "text": [
            "(2710, 5)\n"
          ],
          "name": "stdout"
        }
      ]
    },
    {
      "cell_type": "markdown",
      "metadata": {
        "id": "JyYgYocqhNUg"
      },
      "source": [
        "### Creating a data structure with 60 timesteps and 1 output"
      ]
    },
    {
      "cell_type": "code",
      "metadata": {
        "colab": {
          "base_uri": "https://localhost:8080/"
        },
        "id": "iofU21B0i6ST",
        "outputId": "b2238596-851e-4f8d-f0d3-c081d141549a"
      },
      "source": [
        "X_train = []\n",
        "y_train = []\n",
        "time_step = 30\n",
        "for i in range(time_step, len(training_set_scaled)):\n",
        "  X_train.append(training_set_scaled[i-time_step : i, :])\n",
        "  y_train.append(training_set_scaled[i,0])\n",
        "X_train, y_train = np.array(X_train), np.array(y_train)\n",
        "print(X_train.shape)"
      ],
      "execution_count": 98,
      "outputs": [
        {
          "output_type": "stream",
          "text": [
            "(2680, 30, 5)\n"
          ],
          "name": "stdout"
        }
      ]
    },
    {
      "cell_type": "markdown",
      "metadata": {
        "id": "D8yaN7Zvi95l"
      },
      "source": [
        "### Reshaping"
      ]
    },
    {
      "cell_type": "code",
      "metadata": {
        "id": "FOXqJHmNjBkz"
      },
      "source": [
        "X_train = X_train.reshape((X_train.shape[0], X_train.shape[1], 5))"
      ],
      "execution_count": 8,
      "outputs": []
    },
    {
      "cell_type": "markdown",
      "metadata": {
        "id": "ZRRSOJeVjEWV"
      },
      "source": [
        "## Part 2 - Building and Training the RNN"
      ]
    },
    {
      "cell_type": "markdown",
      "metadata": {
        "id": "k4XV88JMjHXG"
      },
      "source": [
        "### Importing the Keras libraries and packages"
      ]
    },
    {
      "cell_type": "code",
      "metadata": {
        "id": "9JRnqsxEjKsD"
      },
      "source": [
        "from keras.models import Sequential\n",
        "from keras.layers import Dense\n",
        "from keras.layers import LSTM\n",
        "from keras.layers import Dropout"
      ],
      "execution_count": 10,
      "outputs": []
    },
    {
      "cell_type": "markdown",
      "metadata": {
        "id": "FEIE-1s9jNzC"
      },
      "source": [
        "### Initialising the RNN"
      ]
    },
    {
      "cell_type": "code",
      "metadata": {
        "id": "1338dJ0UjRKH"
      },
      "source": [
        "regressor = Sequential()"
      ],
      "execution_count": 11,
      "outputs": []
    },
    {
      "cell_type": "markdown",
      "metadata": {
        "id": "62eg1OPGjT8z"
      },
      "source": [
        "### Adding the first LSTM layer and some Dropout regularisation"
      ]
    },
    {
      "cell_type": "code",
      "metadata": {
        "id": "2hIinyXUjbVU"
      },
      "source": [
        "regressor.add(LSTM(units= 50, return_sequences=True, input_shape =(X_train.shape[1], 5) ))\n",
        "regressor.add(Dropout(0.2))"
      ],
      "execution_count": 12,
      "outputs": []
    },
    {
      "cell_type": "markdown",
      "metadata": {
        "id": "3XBIYLyOjlMx"
      },
      "source": [
        "### Adding a second LSTM layer and some Dropout regularisation"
      ]
    },
    {
      "cell_type": "code",
      "metadata": {
        "id": "UG7nrVaSjuZ2"
      },
      "source": [
        "regressor.add(LSTM(units= 50, return_sequences=True))\n",
        "regressor.add(Dropout(0.2))"
      ],
      "execution_count": 13,
      "outputs": []
    },
    {
      "cell_type": "markdown",
      "metadata": {
        "id": "Ey3fHVnGj1cu"
      },
      "source": [
        "### Adding a third LSTM layer and some Dropout regularisation"
      ]
    },
    {
      "cell_type": "code",
      "metadata": {
        "id": "PuNi6PgFj7jO"
      },
      "source": [
        "regressor.add(LSTM(units= 50, return_sequences=True))\n",
        "regressor.add(Dropout(0.2))"
      ],
      "execution_count": 14,
      "outputs": []
    },
    {
      "cell_type": "markdown",
      "metadata": {
        "id": "SYTrtfTmj933"
      },
      "source": [
        "### Adding a fourth LSTM layer and some Dropout regularisation"
      ]
    },
    {
      "cell_type": "code",
      "metadata": {
        "id": "Jp4Ty8fRkBYV"
      },
      "source": [
        "regressor.add(LSTM(units= 50, return_sequences=False))\n",
        "regressor.add(Dropout(0.2))"
      ],
      "execution_count": 15,
      "outputs": []
    },
    {
      "cell_type": "markdown",
      "metadata": {
        "id": "9ABI6rOIkHhk"
      },
      "source": [
        "### Adding the output layer"
      ]
    },
    {
      "cell_type": "code",
      "metadata": {
        "id": "aM6R1z4WkME8"
      },
      "source": [
        "regressor.add(Dense(units=5))"
      ],
      "execution_count": 43,
      "outputs": []
    },
    {
      "cell_type": "markdown",
      "metadata": {
        "id": "zLx4K7uUkPSh"
      },
      "source": [
        "### Compiling the RNN"
      ]
    },
    {
      "cell_type": "code",
      "metadata": {
        "id": "XTrhVN-tkbko"
      },
      "source": [
        "regressor.compile(optimizer = 'adam', loss = 'mean_squared_error')"
      ],
      "execution_count": 44,
      "outputs": []
    },
    {
      "cell_type": "markdown",
      "metadata": {
        "id": "-mPhwKGkkebi"
      },
      "source": [
        "### Fitting the RNN to the Training set"
      ]
    },
    {
      "cell_type": "code",
      "metadata": {
        "colab": {
          "base_uri": "https://localhost:8080/"
        },
        "id": "mnTu3JZeKiIw",
        "outputId": "bdb1c811-f1bd-47fd-dbb4-10cf560252b5"
      },
      "source": [
        "regressor.fit(X_train, y_train, epochs = 100, batch_size= 32)"
      ],
      "execution_count": 45,
      "outputs": [
        {
          "output_type": "stream",
          "text": [
            "Epoch 1/100\n",
            "84/84 [==============================] - 5s 60ms/step - loss: 0.0775\n",
            "Epoch 2/100\n",
            "84/84 [==============================] - 5s 60ms/step - loss: 0.0395\n",
            "Epoch 3/100\n",
            "84/84 [==============================] - 5s 62ms/step - loss: 0.0219\n",
            "Epoch 4/100\n",
            "84/84 [==============================] - 5s 62ms/step - loss: 0.0123\n",
            "Epoch 5/100\n",
            "84/84 [==============================] - 5s 62ms/step - loss: 0.0073\n",
            "Epoch 6/100\n",
            "84/84 [==============================] - 5s 62ms/step - loss: 0.0051\n",
            "Epoch 7/100\n",
            "84/84 [==============================] - 5s 61ms/step - loss: 0.0038\n",
            "Epoch 8/100\n",
            "84/84 [==============================] - 5s 61ms/step - loss: 0.0030\n",
            "Epoch 9/100\n",
            "84/84 [==============================] - 5s 60ms/step - loss: 0.0023\n",
            "Epoch 10/100\n",
            "84/84 [==============================] - 5s 59ms/step - loss: 0.0019\n",
            "Epoch 11/100\n",
            "84/84 [==============================] - 5s 60ms/step - loss: 0.0013\n",
            "Epoch 12/100\n",
            "84/84 [==============================] - 5s 61ms/step - loss: 0.0011\n",
            "Epoch 13/100\n",
            "84/84 [==============================] - 5s 62ms/step - loss: 9.8038e-04\n",
            "Epoch 14/100\n",
            "84/84 [==============================] - 5s 61ms/step - loss: 7.9501e-04\n",
            "Epoch 15/100\n",
            "84/84 [==============================] - 5s 60ms/step - loss: 8.0682e-04\n",
            "Epoch 16/100\n",
            "84/84 [==============================] - 5s 60ms/step - loss: 7.5951e-04\n",
            "Epoch 17/100\n",
            "84/84 [==============================] - 5s 61ms/step - loss: 7.4260e-04\n",
            "Epoch 18/100\n",
            "84/84 [==============================] - 5s 60ms/step - loss: 8.2733e-04\n",
            "Epoch 19/100\n",
            "84/84 [==============================] - 5s 62ms/step - loss: 7.1494e-04\n",
            "Epoch 20/100\n",
            "84/84 [==============================] - 5s 61ms/step - loss: 6.9014e-04\n",
            "Epoch 21/100\n",
            "84/84 [==============================] - 5s 61ms/step - loss: 6.4953e-04\n",
            "Epoch 22/100\n",
            "84/84 [==============================] - 5s 61ms/step - loss: 7.7008e-04\n",
            "Epoch 23/100\n",
            "84/84 [==============================] - 5s 63ms/step - loss: 6.9855e-04\n",
            "Epoch 24/100\n",
            "84/84 [==============================] - 6s 66ms/step - loss: 7.1384e-04\n",
            "Epoch 25/100\n",
            "84/84 [==============================] - 5s 64ms/step - loss: 6.6172e-04\n",
            "Epoch 26/100\n",
            "84/84 [==============================] - 5s 60ms/step - loss: 6.9894e-04\n",
            "Epoch 27/100\n",
            "84/84 [==============================] - 5s 60ms/step - loss: 6.4559e-04\n",
            "Epoch 28/100\n",
            "84/84 [==============================] - 5s 60ms/step - loss: 6.5954e-04\n",
            "Epoch 29/100\n",
            "84/84 [==============================] - 5s 59ms/step - loss: 6.6225e-04\n",
            "Epoch 30/100\n",
            "84/84 [==============================] - 5s 59ms/step - loss: 6.7774e-04\n",
            "Epoch 31/100\n",
            "84/84 [==============================] - 5s 60ms/step - loss: 7.2483e-04\n",
            "Epoch 32/100\n",
            "84/84 [==============================] - 5s 58ms/step - loss: 7.6065e-04\n",
            "Epoch 33/100\n",
            "84/84 [==============================] - 5s 59ms/step - loss: 6.6482e-04\n",
            "Epoch 34/100\n",
            "84/84 [==============================] - 5s 59ms/step - loss: 6.4180e-04\n",
            "Epoch 35/100\n",
            "84/84 [==============================] - 5s 59ms/step - loss: 6.5186e-04\n",
            "Epoch 36/100\n",
            "84/84 [==============================] - 5s 61ms/step - loss: 6.6676e-04\n",
            "Epoch 37/100\n",
            "84/84 [==============================] - 5s 61ms/step - loss: 6.0968e-04\n",
            "Epoch 38/100\n",
            "84/84 [==============================] - 5s 59ms/step - loss: 6.8936e-04\n",
            "Epoch 39/100\n",
            "84/84 [==============================] - 5s 60ms/step - loss: 6.9586e-04\n",
            "Epoch 40/100\n",
            "84/84 [==============================] - 6s 74ms/step - loss: 6.2825e-04\n",
            "Epoch 41/100\n",
            "84/84 [==============================] - 6s 71ms/step - loss: 6.5620e-04\n",
            "Epoch 42/100\n",
            "84/84 [==============================] - 6s 73ms/step - loss: 6.4520e-04\n",
            "Epoch 43/100\n",
            "84/84 [==============================] - 6s 68ms/step - loss: 6.3607e-04\n",
            "Epoch 44/100\n",
            "84/84 [==============================] - 5s 59ms/step - loss: 6.3053e-04\n",
            "Epoch 45/100\n",
            "84/84 [==============================] - 5s 62ms/step - loss: 6.5543e-04\n",
            "Epoch 46/100\n",
            "84/84 [==============================] - 6s 72ms/step - loss: 6.9484e-04\n",
            "Epoch 47/100\n",
            "84/84 [==============================] - 6s 72ms/step - loss: 6.2824e-04\n",
            "Epoch 48/100\n",
            "84/84 [==============================] - 5s 62ms/step - loss: 5.9481e-04\n",
            "Epoch 49/100\n",
            "84/84 [==============================] - 5s 62ms/step - loss: 6.3124e-04\n",
            "Epoch 50/100\n",
            "84/84 [==============================] - 5s 62ms/step - loss: 6.1456e-04\n",
            "Epoch 51/100\n",
            "84/84 [==============================] - 5s 65ms/step - loss: 5.6545e-04\n",
            "Epoch 52/100\n",
            "84/84 [==============================] - 5s 61ms/step - loss: 5.8426e-04\n",
            "Epoch 53/100\n",
            "84/84 [==============================] - 5s 59ms/step - loss: 6.3355e-04\n",
            "Epoch 54/100\n",
            "84/84 [==============================] - 5s 58ms/step - loss: 5.7933e-04\n",
            "Epoch 55/100\n",
            "84/84 [==============================] - 5s 58ms/step - loss: 6.0325e-04\n",
            "Epoch 56/100\n",
            "84/84 [==============================] - 5s 58ms/step - loss: 5.7687e-04\n",
            "Epoch 57/100\n",
            "84/84 [==============================] - 5s 64ms/step - loss: 5.7465e-04\n",
            "Epoch 58/100\n",
            "84/84 [==============================] - 5s 63ms/step - loss: 6.3715e-04\n",
            "Epoch 59/100\n",
            "84/84 [==============================] - 5s 61ms/step - loss: 5.9515e-04\n",
            "Epoch 60/100\n",
            "84/84 [==============================] - 5s 58ms/step - loss: 6.1066e-04\n",
            "Epoch 61/100\n",
            "84/84 [==============================] - 5s 58ms/step - loss: 5.7812e-04\n",
            "Epoch 62/100\n",
            "84/84 [==============================] - 5s 59ms/step - loss: 5.8239e-04\n",
            "Epoch 63/100\n",
            "84/84 [==============================] - 5s 59ms/step - loss: 5.9966e-04\n",
            "Epoch 64/100\n",
            "84/84 [==============================] - 5s 59ms/step - loss: 6.4780e-04\n",
            "Epoch 65/100\n",
            "84/84 [==============================] - 5s 59ms/step - loss: 6.1522e-04\n",
            "Epoch 66/100\n",
            "84/84 [==============================] - 5s 58ms/step - loss: 5.6325e-04\n",
            "Epoch 67/100\n",
            "84/84 [==============================] - 5s 58ms/step - loss: 6.0363e-04\n",
            "Epoch 68/100\n",
            "84/84 [==============================] - 5s 59ms/step - loss: 6.6385e-04\n",
            "Epoch 69/100\n",
            "84/84 [==============================] - 5s 60ms/step - loss: 5.7607e-04\n",
            "Epoch 70/100\n",
            "84/84 [==============================] - 5s 61ms/step - loss: 6.0882e-04\n",
            "Epoch 71/100\n",
            "84/84 [==============================] - 5s 61ms/step - loss: 5.9932e-04\n",
            "Epoch 72/100\n",
            "84/84 [==============================] - 5s 59ms/step - loss: 5.7977e-04\n",
            "Epoch 73/100\n",
            "84/84 [==============================] - 5s 59ms/step - loss: 6.1160e-04\n",
            "Epoch 74/100\n",
            "84/84 [==============================] - 5s 63ms/step - loss: 5.8353e-04\n",
            "Epoch 75/100\n",
            "84/84 [==============================] - 5s 61ms/step - loss: 6.0949e-04\n",
            "Epoch 76/100\n",
            "84/84 [==============================] - 5s 62ms/step - loss: 6.3466e-04\n",
            "Epoch 77/100\n",
            "84/84 [==============================] - 7s 85ms/step - loss: 5.8487e-04\n",
            "Epoch 78/100\n",
            "84/84 [==============================] - 7s 87ms/step - loss: 5.4534e-04\n",
            "Epoch 79/100\n",
            "84/84 [==============================] - 5s 59ms/step - loss: 5.3332e-04\n",
            "Epoch 80/100\n",
            "84/84 [==============================] - 5s 60ms/step - loss: 5.9921e-04\n",
            "Epoch 81/100\n",
            "84/84 [==============================] - 5s 60ms/step - loss: 6.0090e-04\n",
            "Epoch 82/100\n",
            "84/84 [==============================] - 5s 59ms/step - loss: 5.5540e-04\n",
            "Epoch 83/100\n",
            "84/84 [==============================] - 5s 59ms/step - loss: 5.6323e-04\n",
            "Epoch 84/100\n",
            "84/84 [==============================] - 5s 58ms/step - loss: 5.9732e-04\n",
            "Epoch 85/100\n",
            "84/84 [==============================] - 5s 60ms/step - loss: 5.9983e-04\n",
            "Epoch 86/100\n",
            "84/84 [==============================] - 5s 59ms/step - loss: 5.3494e-04\n",
            "Epoch 87/100\n",
            "84/84 [==============================] - 5s 59ms/step - loss: 5.9760e-04\n",
            "Epoch 88/100\n",
            "84/84 [==============================] - 5s 59ms/step - loss: 6.3454e-04\n",
            "Epoch 89/100\n",
            "84/84 [==============================] - 5s 59ms/step - loss: 5.7504e-04\n",
            "Epoch 90/100\n",
            "84/84 [==============================] - 5s 60ms/step - loss: 5.5827e-04\n",
            "Epoch 91/100\n",
            "84/84 [==============================] - 5s 62ms/step - loss: 5.4438e-04\n",
            "Epoch 92/100\n",
            "84/84 [==============================] - 5s 63ms/step - loss: 5.8018e-04\n",
            "Epoch 93/100\n",
            "84/84 [==============================] - 5s 62ms/step - loss: 5.6518e-04\n",
            "Epoch 94/100\n",
            "84/84 [==============================] - 5s 59ms/step - loss: 6.0907e-04\n",
            "Epoch 95/100\n",
            "84/84 [==============================] - 5s 60ms/step - loss: 5.3836e-04\n",
            "Epoch 96/100\n",
            "84/84 [==============================] - 5s 60ms/step - loss: 5.8467e-04\n",
            "Epoch 97/100\n",
            "84/84 [==============================] - 5s 59ms/step - loss: 5.5525e-04\n",
            "Epoch 98/100\n",
            "84/84 [==============================] - 5s 61ms/step - loss: 6.0126e-04\n",
            "Epoch 99/100\n",
            "84/84 [==============================] - 5s 62ms/step - loss: 5.9309e-04\n",
            "Epoch 100/100\n",
            "84/84 [==============================] - 5s 60ms/step - loss: 5.5648e-04\n"
          ],
          "name": "stdout"
        },
        {
          "output_type": "execute_result",
          "data": {
            "text/plain": [
              "<tensorflow.python.keras.callbacks.History at 0x7f1669bb7320>"
            ]
          },
          "metadata": {
            "tags": []
          },
          "execution_count": 45
        }
      ]
    },
    {
      "cell_type": "markdown",
      "metadata": {
        "id": "4hRau_lIkrE8"
      },
      "source": [
        "## Part 3 - Making the predictions "
      ]
    },
    {
      "cell_type": "code",
      "metadata": {
        "id": "v1XIE92qKkri",
        "colab": {
          "base_uri": "https://localhost:8080/"
        },
        "outputId": "b0a9014c-da59-4a90-9519-269aa4835b8a"
      },
      "source": [
        "\n",
        "real_stock_price = training_set[(len(training_set))-time_step:,0:5]\n",
        "real_stock_price = np.array(real_stock_price)\n",
        "print(real_stock_price.shape)"
      ],
      "execution_count": 99,
      "outputs": [
        {
          "output_type": "stream",
          "text": [
            "(30, 5)\n"
          ],
          "name": "stdout"
        }
      ]
    },
    {
      "cell_type": "code",
      "metadata": {
        "colab": {
          "base_uri": "https://localhost:8080/"
        },
        "id": "kOLGjUDB_jg1",
        "outputId": "18cb8b09-71ff-4f6a-dd53-02749af25c24"
      },
      "source": [
        "dataset_total = training_set\n",
        "inputs = dataset_total[len(dataset_total) - time_step:]\n",
        "inputs = inputs.reshape(-1,5)\n",
        "inputs = sc.transform(inputs)\n",
        "print(inputs.shape)"
      ],
      "execution_count": 101,
      "outputs": [
        {
          "output_type": "stream",
          "text": [
            "(30, 5)\n"
          ],
          "name": "stdout"
        }
      ]
    },
    {
      "cell_type": "code",
      "metadata": {
        "colab": {
          "base_uri": "https://localhost:8080/"
        },
        "id": "pI4GG5jz_9cc",
        "outputId": "01e34500-f5b6-4592-80d9-f752e1b904bd"
      },
      "source": [
        "X_test = []\n",
        "for i in range(time_step, time_step+1):\n",
        "    X_test.append(inputs[i-time_step:i, :])\n",
        "X_test = np.array(X_test)\n",
        "print(X_test.shape)\n",
        "X_test = np.reshape(X_test, (X_test.shape[0], X_test.shape[1], 5))\n",
        "print(X_test.shape)"
      ],
      "execution_count": 102,
      "outputs": [
        {
          "output_type": "stream",
          "text": [
            "(1, 30, 5)\n",
            "(1, 30, 5)\n"
          ],
          "name": "stdout"
        }
      ]
    },
    {
      "cell_type": "code",
      "metadata": {
        "colab": {
          "base_uri": "https://localhost:8080/"
        },
        "id": "NJfqY5FE0o0g",
        "outputId": "a3b91e94-1011-4b26-c55a-b86c154d91bb"
      },
      "source": [
        "\n",
        "\n",
        "predicted_stock_price = regressor.predict(X_test)\n",
        "print(predicted_stock_price)\n",
        "predicted_stock_price = np.array(predicted_stock_price)\n",
        "print(predicted_stock_price.shape)\n",
        "predicted_stock_price.reshape(1,5)\n"
      ],
      "execution_count": 103,
      "outputs": [
        {
          "output_type": "stream",
          "text": [
            "[[0.9742  0.9742  0.97411 0.9742  0.9742 ]]\n",
            "(1, 5)\n"
          ],
          "name": "stdout"
        },
        {
          "output_type": "execute_result",
          "data": {
            "text/plain": [
              "array([[0.9742 , 0.9742 , 0.97411, 0.9742 , 0.9742 ]], dtype=float32)"
            ]
          },
          "metadata": {
            "tags": []
          },
          "execution_count": 103
        }
      ]
    },
    {
      "cell_type": "code",
      "metadata": {
        "colab": {
          "base_uri": "https://localhost:8080/"
        },
        "id": "W_87BgCgwo-p",
        "outputId": "fe628710-9fac-41fd-ea70-aa2a9f428864"
      },
      "source": [
        "r = sc.inverse_transform(predicted_stock_price)\n",
        "r = np.array(r)\n",
        "\n",
        "print('    open','          high','       low','     close','     volume')\n",
        "print(r)"
      ],
      "execution_count": 104,
      "outputs": [
        {
          "output_type": "stream",
          "text": [
            "    open           high        low      close      volume\n",
            "[[1.29105e+04 1.29260e+04 1.27593e+04 1.28356e+04 1.76499e+09]]\n"
          ],
          "name": "stdout"
        }
      ]
    }
  ]
}